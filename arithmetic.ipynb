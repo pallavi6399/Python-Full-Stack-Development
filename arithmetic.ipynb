{
  "nbformat": 4,
  "nbformat_minor": 0,
  "metadata": {
    "colab": {
      "name": "arithmetic.ipynb",
      "provenance": [],
      "authorship_tag": "ABX9TyO7Mpt37o5sIZh0AALcWHoX",
      "include_colab_link": true
    },
    "kernelspec": {
      "name": "python3",
      "display_name": "Python 3"
    },
    "language_info": {
      "name": "python"
    }
  },
  "cells": [
    {
      "cell_type": "markdown",
      "metadata": {
        "id": "view-in-github",
        "colab_type": "text"
      },
      "source": [
        "<a href=\"https://colab.research.google.com/github/pallavi6399/Python-Full-Stack-Development/blob/main/arithmetic.ipynb\" target=\"_parent\"><img src=\"https://colab.research.google.com/assets/colab-badge.svg\" alt=\"Open In Colab\"/></a>"
      ]
    },
    {
      "cell_type": "code",
      "execution_count": 2,
      "metadata": {
        "colab": {
          "base_uri": "https://localhost:8080/"
        },
        "id": "78DqzFiDluXw",
        "outputId": "735a765b-1a21-49b9-f9dd-9908a8f63ac4"
      },
      "outputs": [
        {
          "output_type": "stream",
          "name": "stdout",
          "text": [
            "11\n"
          ]
        }
      ],
      "source": [
        "a=8\n",
        "b=3\n",
        "sum=a+b\n",
        "print(sum)\n"
      ]
    }
  ]
}